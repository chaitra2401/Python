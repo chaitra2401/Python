{
 "cells": [
  {
   "cell_type": "markdown",
   "id": "a61e63b8-532e-447a-b2cb-64cbec7b5a66",
   "metadata": {},
   "source": [
    "## print statement"
   ]
  },
  {
   "cell_type": "markdown",
   "id": "7dcfa2fc-a871-4c85-91e8-46148cf303b3",
   "metadata": {},
   "source": [
    "print statement - gives the output as required, everything in string is in '', and numbers just like that."
   ]
  },
  {
   "cell_type": "code",
   "execution_count": 2,
   "id": "9d1cc04d-8c29-4541-b50e-bc053d1622e6",
   "metadata": {},
   "outputs": [
    {
     "name": "stdout",
     "output_type": "stream",
     "text": [
      "Hello World\n"
     ]
    }
   ],
   "source": [
    "print(\"Hello World\")"
   ]
  },
  {
   "cell_type": "code",
   "execution_count": 4,
   "id": "d1510233-ab88-4dc7-9157-61d82d6d084c",
   "metadata": {},
   "outputs": [
    {
     "name": "stdout",
     "output_type": "stream",
     "text": [
      "1\n"
     ]
    }
   ],
   "source": [
    "print('1')"
   ]
  },
  {
   "cell_type": "code",
   "execution_count": 5,
   "id": "c18952c2-4dfd-4350-94d9-73020198e624",
   "metadata": {},
   "outputs": [
    {
     "name": "stdout",
     "output_type": "stream",
     "text": [
      "1\n"
     ]
    }
   ],
   "source": [
    "print(1)"
   ]
  },
  {
   "cell_type": "code",
   "execution_count": 6,
   "id": "02562532-10c7-4b32-bc27-47398c4324b0",
   "metadata": {},
   "outputs": [
    {
     "name": "stdout",
     "output_type": "stream",
     "text": [
      "1\n"
     ]
    }
   ],
   "source": [
    "a=1\n",
    "print(a)"
   ]
  },
  {
   "cell_type": "code",
   "execution_count": 7,
   "id": "5466687a-c624-41c6-ab69-58395979d7f6",
   "metadata": {},
   "outputs": [
    {
     "data": {
      "text/plain": [
       "1"
      ]
     },
     "execution_count": 7,
     "metadata": {},
     "output_type": "execute_result"
    }
   ],
   "source": [
    "a=1\n",
    "a"
   ]
  },
  {
   "cell_type": "markdown",
   "id": "345b827a-9afa-453b-b9e5-96c15ae535e5",
   "metadata": {},
   "source": [
    "## comments"
   ]
  },
  {
   "cell_type": "markdown",
   "id": "a81348bb-21a4-41e7-a044-c0368f8bc63b",
   "metadata": {},
   "source": [
    "comments in python are given by # for single line comments\n",
    "''' for multiple line comments"
   ]
  },
  {
   "cell_type": "code",
   "execution_count": 8,
   "id": "849a0fc6-840e-4aad-911e-7886258e650f",
   "metadata": {},
   "outputs": [
    {
     "name": "stdout",
     "output_type": "stream",
     "text": [
      "123\n"
     ]
    }
   ],
   "source": [
    "#this is a python comment example\n",
    "x=123\n",
    "print(x)"
   ]
  },
  {
   "cell_type": "code",
   "execution_count": 9,
   "id": "b1cf4312-638e-4562-a189-0e0dd74ac648",
   "metadata": {},
   "outputs": [
    {
     "name": "stdout",
     "output_type": "stream",
     "text": [
      "A\n"
     ]
    }
   ],
   "source": [
    "'''this is a python\n",
    "multi line comment example'''\n",
    "x=\"A\"\n",
    "print(x)"
   ]
  },
  {
   "cell_type": "markdown",
   "id": "2410dee6-1dbd-4568-b5de-0287e97aec78",
   "metadata": {},
   "source": [
    "## Escape Sequence"
   ]
  },
  {
   "cell_type": "markdown",
   "id": "2f0605a6-a042-4bc5-a030-05d915ef7938",
   "metadata": {},
   "source": [
    "\\'\tSingle Quote\t- when we are using single quotes and want to give Apostrophe in middle of the string, we use \\' \n",
    "\n",
    "\\\\\tBackslash\t- when we are using \\ in string, we have to go with \\\\ because, python considers \\ as a special character\n",
    "\n",
    "\\n\tNew Line\t- the string will go to new line\n",
    "\n",
    "\\r\tCarriage Return\t- replaces the string after the \\r with the start\n",
    "\n",
    "\\t\tTab\t- gives tab space in between the string\n",
    "\n",
    "\\b\tBackspace - can be used as a backspace"
   ]
  },
  {
   "cell_type": "code",
   "execution_count": 15,
   "id": "f8f99c29-1cf6-4240-8121-9014ac29a596",
   "metadata": {},
   "outputs": [
    {
     "name": "stdout",
     "output_type": "stream",
     "text": [
      "that's a string\n"
     ]
    }
   ],
   "source": [
    "string='that\\'s a string'\n",
    "print(string)"
   ]
  },
  {
   "cell_type": "code",
   "execution_count": 24,
   "id": "9ed404d6-2e73-431b-a14a-f5c1b1bf9c92",
   "metadata": {},
   "outputs": [
    {
     "name": "stdout",
     "output_type": "stream",
     "text": [
      "that is a string\\text\n"
     ]
    }
   ],
   "source": [
    "string='that is a string\\\\text'\n",
    "print(string)"
   ]
  },
  {
   "cell_type": "code",
   "execution_count": 29,
   "id": "ebb97610-0a79-4935-a402-ecd3b45ab232",
   "metadata": {},
   "outputs": [
    {
     "name": "stdout",
     "output_type": "stream",
     "text": [
      "that is \n",
      "a string\n"
     ]
    }
   ],
   "source": [
    "string=\"that is \\na string\"\n",
    "print(string)"
   ]
  },
  {
   "cell_type": "code",
   "execution_count": 37,
   "id": "0062b1cf-ea57-4ee3-92ff-c13f8b0cfcfd",
   "metadata": {},
   "outputs": [
    {
     "name": "stdout",
     "output_type": "stream",
     "text": [
      "a string\n"
     ]
    }
   ],
   "source": [
    "string=\"this is \\ra string\"\n",
    "print(string)"
   ]
  },
  {
   "cell_type": "code",
   "execution_count": 38,
   "id": "d03c5ec9-b2d9-4223-bfb7-5b10821f4858",
   "metadata": {},
   "outputs": [
    {
     "name": "stdout",
     "output_type": "stream",
     "text": [
      "strings a \n"
     ]
    }
   ],
   "source": [
    "string=\"this is a \\rstring\"\n",
    "print(string)"
   ]
  },
  {
   "cell_type": "code",
   "execution_count": 39,
   "id": "2ea85339-3245-418b-81f5-63e5afa57748",
   "metadata": {},
   "outputs": [
    {
     "name": "stdout",
     "output_type": "stream",
     "text": [
      "this is \t string\n"
     ]
    }
   ],
   "source": [
    "string=\"this is \\t string\"\n",
    "print(string)"
   ]
  },
  {
   "cell_type": "code",
   "execution_count": 41,
   "id": "90efbd27-4dc3-434c-b8cd-f29e36fe44a7",
   "metadata": {},
   "outputs": [
    {
     "name": "stdout",
     "output_type": "stream",
     "text": [
      "this is  string\n"
     ]
    }
   ],
   "source": [
    "string=\"this is a\\b string\"\n",
    "print(string)"
   ]
  },
  {
   "cell_type": "markdown",
   "id": "2432a23a-4c48-4325-a7b5-edcdfadba6ee",
   "metadata": {},
   "source": [
    "sep - seperator, seperates the string as per the given. default - \" \"\n",
    "end - end of the string, ends the string as per the given. default - \"\\n\""
   ]
  },
  {
   "cell_type": "code",
   "execution_count": 43,
   "id": "e9d8dde3-328c-4d14-aa02-9698cf688f78",
   "metadata": {},
   "outputs": [
    {
     "name": "stdout",
     "output_type": "stream",
     "text": [
      "Hello World\n"
     ]
    }
   ],
   "source": [
    "print(\"Hello\",\"World\")"
   ]
  },
  {
   "cell_type": "code",
   "execution_count": 58,
   "id": "b3132f62-c65a-4511-b395-bed899f8b5cb",
   "metadata": {},
   "outputs": [
    {
     "name": "stdout",
     "output_type": "stream",
     "text": [
      "Hello World\n",
      "Hello World:Hello0World\n"
     ]
    }
   ],
   "source": [
    "print(\"Hello\",\"World\",end=\"\\n\")\n",
    "print(\"Hello\",\"World\",end=\":\")\n",
    "print(\"Hello\",\"World\",sep=\"0\")"
   ]
  },
  {
   "cell_type": "markdown",
   "id": "d2d5bbe9-4a06-45e3-b95c-d17ba319e619",
   "metadata": {},
   "source": [
    "## Values And Variables"
   ]
  },
  {
   "cell_type": "code",
   "execution_count": 62,
   "id": "021c0b29-9983-4f1c-8cdb-53da753c5957",
   "metadata": {},
   "outputs": [
    {
     "data": {
      "text/plain": [
       "10"
      ]
     },
     "execution_count": 62,
     "metadata": {},
     "output_type": "execute_result"
    }
   ],
   "source": [
    "#here '=' is the assigment operator\n",
    "x=10 \n",
    "x"
   ]
  },
  {
   "cell_type": "markdown",
   "id": "9bcf99bc-8063-4f2c-a3e4-e39634233c55",
   "metadata": {},
   "source": [
    "## Operators and Operations"
   ]
  },
  {
   "cell_type": "code",
   "execution_count": 73,
   "id": "3a61f35a-cd21-453e-8ce2-4b44bc7fba39",
   "metadata": {},
   "outputs": [
    {
     "name": "stdout",
     "output_type": "stream",
     "text": [
      "12\n",
      "8\n",
      "20\n",
      "5.0\n",
      "5\n",
      "2\n"
     ]
    }
   ],
   "source": [
    "x=10\n",
    "y=2\n",
    "print(x+y) #addition\n",
    "print(x-y) #subtraction\n",
    "print(x*y) #multiplication\n",
    "print(x/y) #float division\n",
    "print(x//y) #int division\n",
    "print(y%x) #remainder"
   ]
  },
  {
   "cell_type": "markdown",
   "id": "c3b65ae3-64fe-4fcb-bcc4-65fb8f160a0f",
   "metadata": {},
   "source": [
    "## What is the Type?"
   ]
  },
  {
   "cell_type": "code",
   "execution_count": 76,
   "id": "2f38b820-fd34-4450-8279-08d9328755d5",
   "metadata": {},
   "outputs": [
    {
     "data": {
      "text/plain": [
       "(int, float)"
      ]
     },
     "execution_count": 76,
     "metadata": {},
     "output_type": "execute_result"
    }
   ],
   "source": [
    "x=10\n",
    "y=10.3\n",
    "type(x),type(y)"
   ]
  },
  {
   "cell_type": "code",
   "execution_count": 68,
   "id": "e779ebf1-1bec-4947-a767-7db7915725d1",
   "metadata": {},
   "outputs": [
    {
     "name": "stdout",
     "output_type": "stream",
     "text": [
      "<class 'int'>\n",
      "<class 'float'>\n",
      "<class 'str'>\n",
      "<class 'bool'>\n"
     ]
    }
   ],
   "source": [
    "x=10\n",
    "w=10.2\n",
    "y=\"Chaitra\"\n",
    "z=True\n",
    "print(type(x))\n",
    "print(type(w))\n",
    "print(type(y))\n",
    "print(type(z))"
   ]
  },
  {
   "cell_type": "code",
   "execution_count": 70,
   "id": "2fced8ea-4eeb-416d-928e-b029dc315b49",
   "metadata": {},
   "outputs": [
    {
     "data": {
      "text/plain": [
       "(int, str, float)"
      ]
     },
     "execution_count": 70,
     "metadata": {},
     "output_type": "execute_result"
    }
   ],
   "source": [
    "type(1),type(\"a\"),type(1.0)"
   ]
  },
  {
   "cell_type": "markdown",
   "id": "a9ca70d8-2989-409e-a372-0ec2043b9d73",
   "metadata": {},
   "source": [
    "## STRINGS"
   ]
  },
  {
   "cell_type": "code",
   "execution_count": 1,
   "id": "1ef0646c-41fa-45f0-87bb-bbbac2e55c04",
   "metadata": {},
   "outputs": [
    {
     "data": {
      "text/plain": [
       "'Chaitra'"
      ]
     },
     "execution_count": 1,
     "metadata": {},
     "output_type": "execute_result"
    }
   ],
   "source": [
    "name=\"Chaitra\"\n",
    "name"
   ]
  },
  {
   "cell_type": "code",
   "execution_count": 82,
   "id": "f0570601-d0a7-4e06-b59b-6a66332fe22d",
   "metadata": {},
   "outputs": [
    {
     "name": "stdout",
     "output_type": "stream",
     "text": [
      "ABCabcaBc\n",
      "ABCabcaBc\n"
     ]
    }
   ],
   "source": [
    "#all should be of the same quotations\n",
    "print(\"ABC\" + \"abc\" + \"aBc\")\n",
    "print('ABC' + 'abc' + 'aBc')"
   ]
  },
  {
   "cell_type": "code",
   "execution_count": 83,
   "id": "1c32a55e-b076-4dbf-a8c7-acadbb356e9c",
   "metadata": {},
   "outputs": [
    {
     "ename": "SyntaxError",
     "evalue": "unterminated string literal (detected at line 1) (3752326365.py, line 1)",
     "output_type": "error",
     "traceback": [
      "\u001b[1;36m  Cell \u001b[1;32mIn[83], line 1\u001b[1;36m\u001b[0m\n\u001b[1;33m    \"ABC\" + 'abc' + 'aBc\"\u001b[0m\n\u001b[1;37m                    ^\u001b[0m\n\u001b[1;31mSyntaxError\u001b[0m\u001b[1;31m:\u001b[0m unterminated string literal (detected at line 1)\n"
     ]
    }
   ],
   "source": [
    "\"ABC\" + 'abc' + 'aBc\""
   ]
  },
  {
   "cell_type": "code",
   "execution_count": 93,
   "id": "b1bc1c0c-2cc8-4ef0-9670-dd6355e2a9ee",
   "metadata": {},
   "outputs": [],
   "source": [
    "x=10\n",
    "y=2"
   ]
  },
  {
   "cell_type": "code",
   "execution_count": 94,
   "id": "3d09edc5-e267-400f-a838-8e9063702d24",
   "metadata": {},
   "outputs": [
    {
     "data": {
      "text/plain": [
       "(False, False, True, True, True, False)"
      ]
     },
     "execution_count": 94,
     "metadata": {},
     "output_type": "execute_result"
    }
   ],
   "source": [
    "#return bool values\n",
    "x==y, x<y, x>y, x!=y, x>=y, x<=y \n"
   ]
  },
  {
   "cell_type": "markdown",
   "id": "7f18bb25-e1ba-468e-9ffb-de6db1e34638",
   "metadata": {},
   "source": [
    "## Print statements"
   ]
  },
  {
   "cell_type": "code",
   "execution_count": 111,
   "id": "9dd7214d-9609-4a2f-96bc-97374001c0e7",
   "metadata": {},
   "outputs": [
    {
     "name": "stdout",
     "output_type": "stream",
     "text": [
      "There are 4 boys and 9 girls\n"
     ]
    }
   ],
   "source": [
    "x=4\n",
    "y=9\n",
    "print(\"There are\",x,\"boys and\",y,\"girls\")"
   ]
  },
  {
   "cell_type": "code",
   "execution_count": 112,
   "id": "271cebb7-0675-45ce-b338-5439f0ebd9ca",
   "metadata": {},
   "outputs": [
    {
     "name": "stdin",
     "output_type": "stream",
     "text": [
      "Enter the number of boys 8\n",
      "Enter the number of girls 6\n"
     ]
    },
    {
     "name": "stdout",
     "output_type": "stream",
     "text": [
      "There are 8 boys and 6 girls\n",
      "The total number of students are 14\n"
     ]
    }
   ],
   "source": [
    "x=int(input(\"Enter the number of boys\"))\n",
    "y=int(input(\"Enter the number of girls\"))\n",
    "print(\"There are\",x,\"boys and\",y,\"girls\")\n",
    "print(\"The total number of students are\",x+y)"
   ]
  },
  {
   "cell_type": "code",
   "execution_count": 113,
   "id": "d3908c3b-8a28-4c9a-89bf-c0c8ac2b4049",
   "metadata": {},
   "outputs": [
    {
     "name": "stdout",
     "output_type": "stream",
     "text": [
      "Python is a programming language\n"
     ]
    }
   ],
   "source": [
    "str=\"Python\"\n",
    "print(str,\"is a programming language\")"
   ]
  },
  {
   "cell_type": "code",
   "execution_count": 114,
   "id": "c00915b3-8006-445b-8b28-404cf8025576",
   "metadata": {},
   "outputs": [
    {
     "name": "stdin",
     "output_type": "stream",
     "text": [
      "Enter your name Chaitra\n"
     ]
    },
    {
     "name": "stdout",
     "output_type": "stream",
     "text": [
      "My name is Chaitra\n"
     ]
    }
   ],
   "source": [
    "str=input(\"Enter your name\")\n",
    "print(\"My name is\",str)"
   ]
  },
  {
   "cell_type": "code",
   "execution_count": 133,
   "id": "c159bbfc-34e5-48dd-bbf1-0fbe2fdf882b",
   "metadata": {},
   "outputs": [
    {
     "name": "stdout",
     "output_type": "stream",
     "text": [
      "False\n"
     ]
    }
   ],
   "source": [
    "#assigning bool to a variable via a condition\n",
    "\n",
    "age=25\n",
    "category=(age>26)\n",
    "print(category)"
   ]
  },
  {
   "cell_type": "code",
   "execution_count": 41,
   "id": "53d7933b-f437-4374-a515-403c33e46eff",
   "metadata": {},
   "outputs": [
    {
     "name": "stdout",
     "output_type": "stream",
     "text": [
      "the value of x is 10\n",
      "True\n",
      "False\n"
     ]
    }
   ],
   "source": [
    "#difference between assingment operator and equal to operator\n",
    "\n",
    "x=10\n",
    "print(\"the value of x is\",x)\n",
    "#assinging value - 10 to the variable - x\n",
    "print(x==10)\n",
    "#checking if the value is 10, returns only boolean value\n",
    "print(x==2)\n",
    "#checking if the value is 2, returns only boolean value"
   ]
  },
  {
   "cell_type": "markdown",
   "id": "91ff6378-97d2-4da4-b082-38d2d1be6c81",
   "metadata": {},
   "source": [
    "## computing math statements"
   ]
  },
  {
   "cell_type": "code",
   "execution_count": 136,
   "id": "c5b7a270-f8a4-4c4f-9dd1-e6bf756da9b6",
   "metadata": {},
   "outputs": [
    {
     "data": {
      "text/plain": [
       "18"
      ]
     },
     "execution_count": 136,
     "metadata": {},
     "output_type": "execute_result"
    }
   ],
   "source": [
    "10+2*4  \n",
    "\n",
    "#here multiplication is done first and then the addition"
   ]
  },
  {
   "cell_type": "code",
   "execution_count": 149,
   "id": "7c4fba01-ae54-4082-b01c-b2984aba7ef3",
   "metadata": {},
   "outputs": [
    {
     "data": {
      "text/plain": [
       "48"
      ]
     },
     "execution_count": 149,
     "metadata": {},
     "output_type": "execute_result"
    }
   ],
   "source": [
    "(10+2)*4\n",
    "\n",
    "#here it follows BODMAS rule\n",
    "#(10+2)*4\n",
    "#12*4\n",
    "#48"
   ]
  },
  {
   "cell_type": "code",
   "execution_count": 148,
   "id": "426bc69d-70ed-4466-9b31-338d0ca9f016",
   "metadata": {},
   "outputs": [
    {
     "data": {
      "text/plain": [
       "14.0"
      ]
     },
     "execution_count": 148,
     "metadata": {},
     "output_type": "execute_result"
    }
   ],
   "source": [
    "25/5*2+(4-2)**2\n",
    "\n",
    "\n",
    "##25/5*2+(4-2)**2\n",
    "##->25/5*2+2**2\n",
    "##->25/5*2+4\n",
    "##->5*2+4\n",
    "##->10+4\n",
    "##->14"
   ]
  },
  {
   "cell_type": "code",
   "execution_count": 147,
   "id": "2cea400d-0e42-4158-8927-a2da8a97c51a",
   "metadata": {},
   "outputs": [
    {
     "data": {
      "text/plain": [
       "82.0"
      ]
     },
     "execution_count": 147,
     "metadata": {},
     "output_type": "execute_result"
    }
   ],
   "source": [
    "(15-5)*2**3+4/2\n",
    "\n",
    "##(15-5)*2**3+4/2\n",
    "##10*2**3+4/2\n",
    "##10*2**3+4/2\n",
    "##10*8+4/2\n",
    "##10*8+2\n",
    "##80+2\n",
    "##82"
   ]
  },
  {
   "cell_type": "markdown",
   "id": "e779058b-8ce3-4a88-80fb-acb65f4a7693",
   "metadata": {},
   "source": [
    "## Precision\n",
    "\n",
    "-> round function - rounds off the specified decimal points\n",
    "\n",
    "-> syntax - round(number,points)"
   ]
  },
  {
   "cell_type": "code",
   "execution_count": 3,
   "id": "dcfc2ecd-d387-445e-9f0f-69952ac613e3",
   "metadata": {},
   "outputs": [
    {
     "data": {
      "text/plain": [
       "3.3333333333333335"
      ]
     },
     "execution_count": 3,
     "metadata": {},
     "output_type": "execute_result"
    }
   ],
   "source": [
    "x=10\n",
    "y=3\n",
    "x/y"
   ]
  },
  {
   "cell_type": "code",
   "execution_count": 4,
   "id": "441d434a-c20b-419a-bf85-41b8c5066a7f",
   "metadata": {},
   "outputs": [
    {
     "data": {
      "text/plain": [
       "3.33333"
      ]
     },
     "execution_count": 4,
     "metadata": {},
     "output_type": "execute_result"
    }
   ],
   "source": [
    "round(x/y,5)"
   ]
  },
  {
   "cell_type": "code",
   "execution_count": 8,
   "id": "61c7ef97-8a31-4abf-915e-adc4820df1d7",
   "metadata": {},
   "outputs": [
    {
     "data": {
      "text/plain": [
       "9.3"
      ]
     },
     "execution_count": 8,
     "metadata": {},
     "output_type": "execute_result"
    }
   ],
   "source": [
    "round(9.298939,2)\n",
    "\n",
    "#it rounded off to 2 decimal points, coz round off to 9 is 0"
   ]
  },
  {
   "cell_type": "markdown",
   "id": "13b82414-145b-47a1-b52a-842f5da97965",
   "metadata": {},
   "source": [
    "## TypeCast\n",
    "\n",
    "-> We cannot convert a string to integer but vice verse yes.\n",
    "-> Only when we store the typecast in variable, the conversion stays."
   ]
  },
  {
   "cell_type": "code",
   "execution_count": 20,
   "id": "9956e9fd-60af-41a7-9e61-3287fb879e30",
   "metadata": {},
   "outputs": [],
   "source": [
    "name=\"Chaitra\""
   ]
  },
  {
   "cell_type": "code",
   "execution_count": 21,
   "id": "204d3fd6-ae4d-4c18-98df-7c45c611a1be",
   "metadata": {},
   "outputs": [
    {
     "data": {
      "text/plain": [
       "str"
      ]
     },
     "execution_count": 21,
     "metadata": {},
     "output_type": "execute_result"
    }
   ],
   "source": [
    "type(name)"
   ]
  },
  {
   "cell_type": "code",
   "execution_count": 26,
   "id": "bd2fec60-3be7-4d95-86eb-93da94dea0bb",
   "metadata": {},
   "outputs": [
    {
     "ename": "ValueError",
     "evalue": "invalid literal for int() with base 10: 'Chaitra'",
     "output_type": "error",
     "traceback": [
      "\u001b[1;31m---------------------------------------------------------------------------\u001b[0m",
      "\u001b[1;31mValueError\u001b[0m                                Traceback (most recent call last)",
      "Cell \u001b[1;32mIn[26], line 1\u001b[0m\n\u001b[1;32m----> 1\u001b[0m \u001b[38;5;28mint\u001b[39m(name)\n",
      "\u001b[1;31mValueError\u001b[0m: invalid literal for int() with base 10: 'Chaitra'"
     ]
    }
   ],
   "source": [
    "int(name)"
   ]
  },
  {
   "cell_type": "code",
   "execution_count": 23,
   "id": "77ae055f-ec29-4e5a-959d-00cb17fcbb38",
   "metadata": {},
   "outputs": [
    {
     "data": {
      "text/plain": [
       "int"
      ]
     },
     "execution_count": 23,
     "metadata": {},
     "output_type": "execute_result"
    }
   ],
   "source": [
    "age = 24\n",
    "type(age)"
   ]
  },
  {
   "cell_type": "code",
   "execution_count": 38,
   "id": "dbaab424-665c-4489-8167-902e00a42c4b",
   "metadata": {},
   "outputs": [
    {
     "data": {
      "text/plain": [
       "str"
      ]
     },
     "execution_count": 38,
     "metadata": {},
     "output_type": "execute_result"
    }
   ],
   "source": [
    "x= str(age)\n",
    "type(x)"
   ]
  },
  {
   "cell_type": "markdown",
   "id": "3b4f4ed1-733a-4229-9571-82a43ab57b2a",
   "metadata": {},
   "source": [
    "## Boolean Codes\n",
    "\n",
    "Value of True = 1\n",
    "\n",
    "Value of False = 0"
   ]
  },
  {
   "cell_type": "code",
   "execution_count": 44,
   "id": "008cf947-5891-4d34-ac4a-7d06f38e8307",
   "metadata": {},
   "outputs": [
    {
     "data": {
      "text/plain": [
       "2"
      ]
     },
     "execution_count": 44,
     "metadata": {},
     "output_type": "execute_result"
    }
   ],
   "source": [
    "True+True+False"
   ]
  },
  {
   "cell_type": "code",
   "execution_count": 47,
   "id": "f0874d98-2aaa-41cb-b94e-26b540398b97",
   "metadata": {},
   "outputs": [
    {
     "data": {
      "text/plain": [
       "False"
      ]
     },
     "execution_count": 47,
     "metadata": {},
     "output_type": "execute_result"
    }
   ],
   "source": [
    "True == 0"
   ]
  },
  {
   "cell_type": "markdown",
   "id": "34556bdb-ff64-47a1-bfa4-fb6b5778b8e6",
   "metadata": {},
   "source": [
    "##### Or Operator\n",
    "\n",
    "-> True if any one is True"
   ]
  },
  {
   "cell_type": "code",
   "execution_count": 10,
   "id": "c1bb4c51-e201-4841-98ec-8a08471b1aea",
   "metadata": {},
   "outputs": [
    {
     "data": {
      "text/plain": [
       "(False, True, True, True)"
      ]
     },
     "execution_count": 10,
     "metadata": {},
     "output_type": "execute_result"
    }
   ],
   "source": [
    "False|False, False|True, True|False, True|True\n",
    "\n",
    "#0 or 0 = 0\n",
    "#0 or 1 = 1\n",
    "#1 or 0 = 1\n",
    "#1 or 1 = 1"
   ]
  },
  {
   "cell_type": "code",
   "execution_count": 9,
   "id": "f349ea55-728b-40b1-bac3-74d729acb55e",
   "metadata": {},
   "outputs": [
    {
     "data": {
      "text/plain": [
       "(False, True, True, True)"
      ]
     },
     "execution_count": 9,
     "metadata": {},
     "output_type": "execute_result"
    }
   ],
   "source": [
    "False or False, False or True, True or False, True or True"
   ]
  },
  {
   "cell_type": "markdown",
   "id": "e5aa2e84-ce38-49a1-bd33-30806ecbf65f",
   "metadata": {},
   "source": [
    "#### And Operator\n",
    "\n",
    "-> True only if both are True"
   ]
  },
  {
   "cell_type": "code",
   "execution_count": 11,
   "id": "70c443fd-cc6e-4840-89e6-417269a41ade",
   "metadata": {},
   "outputs": [
    {
     "data": {
      "text/plain": [
       "(False, False, False, True)"
      ]
     },
     "execution_count": 11,
     "metadata": {},
     "output_type": "execute_result"
    }
   ],
   "source": [
    "False and False, False and True, True and False, True and True\n",
    "\n",
    "#0 and 0 = 0\n",
    "#0 and 1 = 0\n",
    "#1 and 0 = 0\n",
    "#1 and 1 = 1"
   ]
  },
  {
   "cell_type": "code",
   "execution_count": 12,
   "id": "9b1c6820-d3d8-4d5b-b8f5-7c6958857417",
   "metadata": {},
   "outputs": [
    {
     "data": {
      "text/plain": [
       "(False, False, False, True)"
      ]
     },
     "execution_count": 12,
     "metadata": {},
     "output_type": "execute_result"
    }
   ],
   "source": [
    "False & False, False & True, True & False, True & True"
   ]
  },
  {
   "cell_type": "markdown",
   "id": "99dab47f-31bd-4f71-93f9-c857a3f62bff",
   "metadata": {},
   "source": [
    "#### Not Operator\n",
    "\n",
    "-> True for False\n",
    "\n",
    "-> False for True"
   ]
  },
  {
   "cell_type": "code",
   "execution_count": 13,
   "id": "b2207eec-7d3e-45e3-be75-28a7192922d7",
   "metadata": {},
   "outputs": [
    {
     "data": {
      "text/plain": [
       "True"
      ]
     },
     "execution_count": 13,
     "metadata": {},
     "output_type": "execute_result"
    }
   ],
   "source": [
    "not False\n",
    "\n",
    "#not 0 = 1"
   ]
  },
  {
   "cell_type": "code",
   "execution_count": 87,
   "id": "b8248c97-a61d-46bc-bc0a-c527705823c2",
   "metadata": {},
   "outputs": [
    {
     "data": {
      "text/plain": [
       "False"
      ]
     },
     "execution_count": 87,
     "metadata": {},
     "output_type": "execute_result"
    }
   ],
   "source": [
    "not True"
   ]
  },
  {
   "cell_type": "code",
   "execution_count": 88,
   "id": "3e5758d0-933f-41c4-b298-957b8481331d",
   "metadata": {},
   "outputs": [
    {
     "data": {
      "text/plain": [
       "True"
      ]
     },
     "execution_count": 88,
     "metadata": {},
     "output_type": "execute_result"
    }
   ],
   "source": [
    "f = False\n",
    "not f"
   ]
  },
  {
   "cell_type": "code",
   "execution_count": 89,
   "id": "651bd11c-3d53-4982-a645-6ccbaaf88e54",
   "metadata": {},
   "outputs": [
    {
     "data": {
      "text/plain": [
       "False"
      ]
     },
     "execution_count": 89,
     "metadata": {},
     "output_type": "execute_result"
    }
   ],
   "source": [
    "f = True\n",
    "not f"
   ]
  },
  {
   "cell_type": "code",
   "execution_count": 90,
   "id": "7e43646b-8e8c-414a-822a-75e2ef45d83e",
   "metadata": {},
   "outputs": [
    {
     "data": {
      "text/plain": [
       "False"
      ]
     },
     "execution_count": 90,
     "metadata": {},
     "output_type": "execute_result"
    }
   ],
   "source": [
    "not(True or True)"
   ]
  },
  {
   "cell_type": "code",
   "execution_count": 91,
   "id": "16e7ae0a-c685-4ee6-827e-88a04bafa793",
   "metadata": {},
   "outputs": [
    {
     "data": {
      "text/plain": [
       "True"
      ]
     },
     "execution_count": 91,
     "metadata": {},
     "output_type": "execute_result"
    }
   ],
   "source": [
    "not(False and True)"
   ]
  },
  {
   "cell_type": "code",
   "execution_count": 102,
   "id": "94624b15-917c-486f-9761-db357474db0a",
   "metadata": {},
   "outputs": [
    {
     "data": {
      "text/plain": [
       "False"
      ]
     },
     "execution_count": 102,
     "metadata": {},
     "output_type": "execute_result"
    }
   ],
   "source": [
    "var = 8\n",
    "not ((var < 7) or (var > 7))\n",
    "#checking if var is lesser than 7 - false\n",
    "# checking if var is greater than 7 - true\n",
    "# false or true\n",
    "# true\n",
    "# not(true)\n",
    "# false "
   ]
  },
  {
   "cell_type": "code",
   "execution_count": 103,
   "id": "50847351-354c-4693-87cb-3f95bc49a4fd",
   "metadata": {},
   "outputs": [
    {
     "name": "stdin",
     "output_type": "stream",
     "text": [
      " 3\n",
      " 3\n"
     ]
    },
    {
     "data": {
      "text/plain": [
       "True"
      ]
     },
     "execution_count": 103,
     "metadata": {},
     "output_type": "execute_result"
    }
   ],
   "source": [
    "var = int(input(\"\"))\n",
    "check_point=int(input(\"\"))\n",
    "not ((var < check_point) or (var > check_point))"
   ]
  },
  {
   "cell_type": "code",
   "execution_count": 105,
   "id": "caba3177-be9e-4f90-943e-3468a10b2179",
   "metadata": {},
   "outputs": [
    {
     "name": "stdout",
     "output_type": "stream",
     "text": [
      "Hi\n"
     ]
    }
   ],
   "source": [
    "if(True):\n",
    "    print(\"Hi\")\n",
    "else:\n",
    "    print(\"Bye\")"
   ]
  },
  {
   "cell_type": "code",
   "execution_count": 17,
   "id": "b7569f62-9361-459a-b114-14c1693ebc68",
   "metadata": {},
   "outputs": [
    {
     "name": "stdout",
     "output_type": "stream",
     "text": [
      "stay\n"
     ]
    }
   ],
   "source": [
    "if(False):\n",
    "    print(\"Go\")\n",
    "else:\n",
    "    print(\"stay\")\n",
    "\n",
    "#default is true always"
   ]
  },
  {
   "cell_type": "code",
   "execution_count": 22,
   "id": "b792adad-b48a-47d8-adc8-4ff54a641916",
   "metadata": {},
   "outputs": [
    {
     "name": "stdout",
     "output_type": "stream",
     "text": [
      "Is it raining? True\n"
     ]
    }
   ],
   "source": [
    "#Assign boolean values representing weather conditions to variables, then print them.\n",
    "\n",
    "is_rainy=False\n",
    "print(\"Is it raining?\",not(is_rainy))"
   ]
  },
  {
   "cell_type": "code",
   "execution_count": null,
   "id": "34bacce8-d061-404a-9cfe-de0e2173fcd9",
   "metadata": {},
   "outputs": [],
   "source": []
  }
 ],
 "metadata": {
  "kernelspec": {
   "display_name": "Python 3 (ipykernel)",
   "language": "python",
   "name": "python3"
  },
  "language_info": {
   "codemirror_mode": {
    "name": "ipython",
    "version": 3
   },
   "file_extension": ".py",
   "mimetype": "text/x-python",
   "name": "python",
   "nbconvert_exporter": "python",
   "pygments_lexer": "ipython3",
   "version": "3.12.4"
  }
 },
 "nbformat": 4,
 "nbformat_minor": 5
}

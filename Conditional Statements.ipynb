{
 "cells": [
  {
   "cell_type": "markdown",
   "id": "c3448ab7-be7c-4cbd-a54a-b432c63289c5",
   "metadata": {},
   "source": [
    "### IF-ELSE STATEMENTS"
   ]
  },
  {
   "cell_type": "raw",
   "id": "dfd7d8c5-5dc2-426a-973f-dfd637aa402f",
   "metadata": {},
   "source": [
    "IF_ELSE STATEMENTS\n",
    "\n",
    "if(condition):\n",
    "    excute the statements\n",
    "else:\n",
    "    excute the statements"
   ]
  },
  {
   "cell_type": "code",
   "execution_count": 2,
   "id": "7d1d686e-aad6-4591-9608-cbaf6b623055",
   "metadata": {},
   "outputs": [
    {
     "name": "stdin",
     "output_type": "stream",
     "text": [
      "Please fill the form:  CHAITRA\n",
      "Aadhar Card Details:  CHAlTRA\n"
     ]
    },
    {
     "name": "stdout",
     "output_type": "stream",
     "text": [
      "KYC Fail\n"
     ]
    }
   ],
   "source": [
    "# Try this. \n",
    "# Create variable to store the customer name as written in the form. \n",
    "# Create another variable for name as in Aadhar card\n",
    "# compare them using equality operator as part an imaginary KYC process\n",
    "\n",
    "customer_name = input(\"Please fill the form: \")\n",
    "aadhar_card = input(\"Aadhar Card Details: \")\n",
    "if(aadhar_card == customer_name):\n",
    "    print(\"KYC success\")\n",
    "else:\n",
    "    print(\"KYC Fail\")"
   ]
  },
  {
   "cell_type": "code",
   "execution_count": 10,
   "id": "4aa9ed94-b6ab-4fd1-bdc5-2e0299544ae4",
   "metadata": {},
   "outputs": [
    {
     "data": {
      "text/plain": [
       "True"
      ]
     },
     "execution_count": 10,
     "metadata": {},
     "output_type": "execute_result"
    }
   ],
   "source": [
    "customer_name = 'Chaitra'\n",
    "aadhar_card = \"Chaitra\"\n",
    "aadhar_card == customer_name\n",
    "\n",
    "# there is no difference between \" \" and ' ' in python"
   ]
  },
  {
   "cell_type": "code",
   "execution_count": 12,
   "id": "362b7463-3e10-4219-bda3-3d00422fc3a5",
   "metadata": {},
   "outputs": [
    {
     "data": {
      "text/plain": [
       "(True, True, False)"
      ]
     },
     "execution_count": 12,
     "metadata": {},
     "output_type": "execute_result"
    }
   ],
   "source": [
    "# create a variable for admission cut_off in Delhi University i.e. if a student scores cut-off or more\n",
    "# then student is eligible for the admission\n",
    "# create a three variables to hold marks of three different students\n",
    "# check if each student is eligible or not\n",
    "cut_off= 60\n",
    "studen1_marks = 78\n",
    "student2_marks= 90\n",
    "student3_marks = 59\n",
    "\n",
    "studen1_marks>=60,student2_marks>=60,student3_marks>=60\n"
   ]
  },
  {
   "cell_type": "code",
   "execution_count": 16,
   "id": "e1857c61-bfd7-45bd-a03a-752ad793c031",
   "metadata": {},
   "outputs": [
    {
     "name": "stdout",
     "output_type": "stream",
     "text": [
      "Student 1 is eligible\n",
      "Student 2 is eligible\n",
      "Student 3 is not eligible\n"
     ]
    }
   ],
   "source": [
    "cut_off= 60\n",
    "studen1_marks = 78\n",
    "student2_marks= 90\n",
    "student3_marks = 59\n",
    "if(studen1_marks>=60):\n",
    "    print(\"Student 1 is eligible\")\n",
    "else:\n",
    "    print(\"Student 1 is not eligible\")\n",
    "if(student2_marks>=60):\n",
    "    print(\"Student 2 is eligible\")\n",
    "else:\n",
    "    print(\"Student 2 is not eligible\")\n",
    "if(student3_marks>=60):\n",
    "    print(\"Student 3 is eligible\")\n",
    "else:\n",
    "    print(\"Student 3 is not eligible\")"
   ]
  },
  {
   "cell_type": "code",
   "execution_count": 40,
   "id": "1c4566d2-a1ab-45d2-8d8d-6b8f94b83310",
   "metadata": {},
   "outputs": [
    {
     "data": {
      "text/plain": [
       "True"
      ]
     },
     "execution_count": 40,
     "metadata": {},
     "output_type": "execute_result"
    }
   ],
   "source": [
    "# Banks approve loans if the EMI due is less than half of the applicant's take home salary per month\n",
    "# create a variable for take home salary for two employees\n",
    "# create a variable for EMI\n",
    "# check if the applicant can be granted the loan\n",
    "\n",
    "take_home_salary_1 = 55000\n",
    "take_home_salary_2 = 25000\n",
    "EMI = 20000\n",
    "EMI<take_home_salary_1/2"
   ]
  },
  {
   "cell_type": "code",
   "execution_count": 43,
   "id": "8347d2f6-d1dd-4bcf-829a-debbb41586cd",
   "metadata": {},
   "outputs": [
    {
     "name": "stdout",
     "output_type": "stream",
     "text": [
      "Person 1 is eligible\n",
      "Person 2 is not eligible\n"
     ]
    }
   ],
   "source": [
    "take_home_salary_1 = 55000\n",
    "take_home_salary_2 = 25000\n",
    "EMI = 20000\n",
    "if(EMI<take_home_salary_1/2):\n",
    "    print(\"Person 1 is eligible\")\n",
    "else:\n",
    "    print(\"Person 1 is not eligible\")\n",
    "if(EMI<take_home_salary_2/2):\n",
    "    print(\"Person 2 is eligible\")\n",
    "else:\n",
    "    print(\"Person 2 is not eligible\")"
   ]
  },
  {
   "cell_type": "code",
   "execution_count": 50,
   "id": "07ad932a-d4e1-4c43-945f-94beb5eb22af",
   "metadata": {},
   "outputs": [
    {
     "name": "stdout",
     "output_type": "stream",
     "text": [
      "Person is eligible, the take home salary is: 55000\n",
      "Person is not eligible, the take home salary is: 25000\n"
     ]
    }
   ],
   "source": [
    "take_home_salary= [55000,25000]\n",
    "EMI = 20000\n",
    "for i in take_home_salary:\n",
    "    if(EMI<i/2):\n",
    "        print(\"Person is eligible, the take home salary is:\",i)\n",
    "    else:\n",
    "        print(\"Person is not eligible, the take home salary is:\",i)"
   ]
  },
  {
   "cell_type": "code",
   "execution_count": 54,
   "id": "12db031d-5c2e-45fc-bd14-afb092c6ae20",
   "metadata": {},
   "outputs": [
    {
     "data": {
      "text/plain": [
       "True"
      ]
     },
     "execution_count": 54,
     "metadata": {},
     "output_type": "execute_result"
    }
   ],
   "source": [
    "# Olympic champion Neeraj Chopra throws Javelin 89.3 m in a practice session\n",
    "# he held the previous national record of 88.07m\n",
    "# check if his last throw beat his previous record\n",
    "\n",
    "last_throw=89.3\n",
    "previous_record=88.07\n",
    "last_throw>previous_record"
   ]
  },
  {
   "cell_type": "code",
   "execution_count": null,
   "id": "bd046cb4-9434-4cfa-9c50-2ab6ee1972e4",
   "metadata": {},
   "outputs": [],
   "source": [
    "# create variables for height in m and weight in kgs\n",
    "# calculate bmi and store it in a new variable\n",
    "# compare this bmi with the cut-offs for underweight, normal, overweight, obese\n",
    "\n",
    "\n",
    "# Underweight - BMI under 18.5 kg/m^2\n",
    "# Normal weight - BMI greater than or equal to 18.5 to 24.9 kg/m^2\n",
    "# Overweight – BMI greater than or equal to 25 to 29.9 kg/m^2\n",
    "# Obesity – BMI greater than or equal to 30 kg/m^2"
   ]
  },
  {
   "cell_type": "code",
   "execution_count": 61,
   "id": "0728c4eb-17d1-4984-90cc-944ae75f5ee7",
   "metadata": {},
   "outputs": [
    {
     "name": "stdin",
     "output_type": "stream",
     "text": [
      "Height of the person in meters 1.65\n",
      "Weight of the person in kiliograms 65\n"
     ]
    },
    {
     "name": "stdout",
     "output_type": "stream",
     "text": [
      "23.875114784205696\n",
      "Normal weight\n"
     ]
    }
   ],
   "source": [
    "height=float(input(\"Height of the person in meters\"))\n",
    "weight=float(input(\"Weight of the person in kiliograms\"))\n",
    "bmi=weight/(height*height)\n",
    "print(bmi)\n",
    "if(bmi<18.5):\n",
    "    print(\"underweight\")\n",
    "elif(bmi>=18.5 and bmi<24.9):\n",
    "    print(\"Normal weight\")\n",
    "elif(bmi>=25 and bmi<29.9):\n",
    "    print(\"Overweight\")\n",
    "elif(bmi<=30):\n",
    "    print(\"Obesity\")\n",
    "else:\n",
    "    print(\"wrong input\")"
   ]
  },
  {
   "cell_type": "code",
   "execution_count": 68,
   "id": "0294ed18-e724-47cd-8d7d-4138e62c1d77",
   "metadata": {},
   "outputs": [
    {
     "name": "stdout",
     "output_type": "stream",
     "text": [
      "Result of Student A is Pass\n",
      "Result of Student B is Pass\n",
      "Result of Student C is Fail\n",
      "Result of Student D is Fail\n"
     ]
    }
   ],
   "source": [
    "# typically pass marks in exams are 40. therefore if a student score 39 or less, the result is fail\n",
    "# create three variables for storing three students' marks\n",
    "# check each if it is 39 or less\n",
    "\n",
    "student1_marks=40\n",
    "student2_marks= 50\n",
    "student3_marks= 39\n",
    "student4_marks = 29\n",
    "\n",
    "if(student1_marks<=39):\n",
    "    print(\"Result of Student A is Fail\")\n",
    "else:\n",
    "    print(\"Result of Student A is Pass\")\n",
    "\n",
    "if(student2_marks<=39):\n",
    "    print(\"Result of Student B is Fail\")\n",
    "else:\n",
    "    print(\"Result of Student B is Pass\")\n",
    "\n",
    "if(student3_marks<=39):\n",
    "    print(\"Result of Student C is Fail\")\n",
    "else:\n",
    "    print(\"Result of Student C is Pass\")\n",
    "    \n",
    "if(student4_marks<=39):\n",
    "    print(\"Result of Student D is Fail\")\n",
    "else:\n",
    "    print(\"Result of Student D is Pass\")"
   ]
  },
  {
   "cell_type": "code",
   "execution_count": 67,
   "id": "664624a5-05f1-4e78-8f3f-a00387786534",
   "metadata": {},
   "outputs": [
    {
     "name": "stdout",
     "output_type": "stream",
     "text": [
      "Pass\n",
      "Pass\n",
      "Fail\n",
      "Fail\n"
     ]
    }
   ],
   "source": [
    "marks=[40,50,39,29]\n",
    "for i in marks:\n",
    "    if(i<=39):\n",
    "        print(\"Fail\")\n",
    "    else:\n",
    "        print(\"Pass\")"
   ]
  },
  {
   "cell_type": "code",
   "execution_count": 71,
   "id": "0224ab16-924f-46e4-870c-c3d678ad9d35",
   "metadata": {},
   "outputs": [
    {
     "name": "stdin",
     "output_type": "stream",
     "text": [
      " 67\n"
     ]
    },
    {
     "name": "stdout",
     "output_type": "stream",
     "text": [
      "it is a odd number\n"
     ]
    }
   ],
   "source": [
    "# Even numbers are divisible by 2. This means the remainder from a division by 2 is zero.\n",
    "# create a variable to hold a number. how can we check if this number is an even number?\n",
    "\n",
    "number=int(input(\"\"))\n",
    "if(number%2==0):\n",
    "    print(\"it is an even number\")\n",
    "else:\n",
    "    print(\"it is a odd number\")"
   ]
  },
  {
   "cell_type": "code",
   "execution_count": 73,
   "id": "5195871d-d6bc-40a2-93ea-3b19299572d2",
   "metadata": {},
   "outputs": [
    {
     "name": "stdin",
     "output_type": "stream",
     "text": [
      " 21\n"
     ]
    },
    {
     "name": "stdout",
     "output_type": "stream",
     "text": [
      "it is divisible by 7 \n"
     ]
    }
   ],
   "source": [
    "# create a variable to hold a number\n",
    "# can you check if this number is divisible by 7?\n",
    "\n",
    "number=int(input(\"\"))\n",
    "if(number%7==0):\n",
    "    print(\"it is divisible by 7 \")\n",
    "else:\n",
    "    print(\"it is not divisible by 7\")"
   ]
  },
  {
   "cell_type": "code",
   "execution_count": 76,
   "id": "09b9f426-7551-4e84-8a2d-85c23200da13",
   "metadata": {},
   "outputs": [
    {
     "name": "stdout",
     "output_type": "stream",
     "text": [
      "True\n"
     ]
    }
   ],
   "source": [
    "marks = 78\n",
    "if (marks < 40):\n",
    "    result = \"Fail\"\n",
    "else:\n",
    "    result = \"True\"\n",
    "print(result)\n",
    "\n",
    "#checks the condition, if it satisfies the result holds the value as required, else the other value."
   ]
  },
  {
   "cell_type": "code",
   "execution_count": 87,
   "id": "fd63c4d2-72ba-41d6-a724-baa53d988cab",
   "metadata": {},
   "outputs": [
    {
     "name": "stdin",
     "output_type": "stream",
     "text": [
      "what is your score 44\n"
     ]
    },
    {
     "name": "stdout",
     "output_type": "stream",
     "text": [
      "Pass\n"
     ]
    }
   ],
   "source": [
    "# in universities, the following classifications are used: < 40 Fail, 40-59 is Pass, 60-74 First Class\n",
    "# 75 or more is Distinction\n",
    "# can you implement this as a series of if statements?\n",
    "\n",
    "marks = int(input(\"what is your score\"))\n",
    "if(marks < 40):\n",
    "    print(\"Fail\")\n",
    "elif(marks>=40 and marks<=59):\n",
    "    print(\"Pass\")\n",
    "elif(marks>=60 and marks<=74):\n",
    "    print(\"First Class\")\n",
    "elif(marks>=75):\n",
    "    print(\"Distinction\")\n",
    "else:\n",
    "    print(\"Wrong input\")"
   ]
  },
  {
   "cell_type": "code",
   "execution_count": 88,
   "id": "db39e069-13e2-4963-8031-938053b7ff01",
   "metadata": {},
   "outputs": [],
   "source": [
    "# social media applications recommend new users to connect with. \n",
    "# For e.g. LinkedIn suggests new connections.\n",
    "# an imaginary social media app considers users as teens and adults\n",
    "# compares their base country\n",
    "# if there is a match of both then makes recommendations\n",
    "# create variables for two users: their age, their country\n",
    "# compare them and if there is a match, print the result"
   ]
  },
  {
   "cell_type": "code",
   "execution_count": 92,
   "id": "293e1b8e-a5ff-4453-a6a9-c57244c1521f",
   "metadata": {},
   "outputs": [
    {
     "name": "stdout",
     "output_type": "stream",
     "text": [
      "no match\n"
     ]
    }
   ],
   "source": [
    "user1_age = 23\n",
    "user2_age = 16\n",
    "user1_country = \"USA\"\n",
    "user2_country = \"USA\"\n",
    "if(user1_age>=18 and user2_age>=18 and user1_country==user2_country):\n",
    "    print(\"match\")\n",
    "else:\n",
    "    print(\"no match\")"
   ]
  },
  {
   "cell_type": "code",
   "execution_count": 134,
   "id": "72d5836f-20be-4000-8add-f756a2c328c1",
   "metadata": {},
   "outputs": [
    {
     "name": "stdin",
     "output_type": "stream",
     "text": [
      "Enter the user1_age: 23\n",
      "Enter the user2_age: 34\n",
      "Enter the user1_country: USA\n",
      "Enter the user2_country: India\n"
     ]
    },
    {
     "name": "stdout",
     "output_type": "stream",
     "text": [
      "no match\n"
     ]
    }
   ],
   "source": [
    "user1_age = int(input(\"Enter the user1_age:\"))\n",
    "user2_age = int(input(\"Enter the user2_age:\"))\n",
    "user1_country = input(\"Enter the user1_country:\")\n",
    "user2_country = input(\"Enter the user2_country:\")\n",
    "score = 0\n",
    "if(user1_age<13 and user2_age<13):\n",
    "    score = 0\n",
    "elif(user1_age<=18 and user2_age<=18):\n",
    "    score = 1\n",
    "    if(user1_country==user2_country):\n",
    "        score = score+1\n",
    "elif(user1_age>=18 and user2_age>=18):\n",
    "    score = 1\n",
    "    if(user1_country==user2_country):\n",
    "        score = score+1\n",
    "        \n",
    "if(score==0):\n",
    "    print(\"underage\")\n",
    "elif(score == 2):\n",
    "    print(\"match\")\n",
    "elif(score == 1):\n",
    "    print(\"no match\")"
   ]
  },
  {
   "cell_type": "code",
   "execution_count": 136,
   "id": "d19b6963-4b71-498c-acf7-236021ffe308",
   "metadata": {},
   "outputs": [
    {
     "name": "stdout",
     "output_type": "stream",
     "text": [
      "It is a even number\n"
     ]
    }
   ],
   "source": [
    "num = 4\n",
    "if (num%2) == 0: print(\"It is a even number\") "
   ]
  },
  {
   "cell_type": "code",
   "execution_count": 135,
   "id": "005a04f2-4839-410c-a7ae-e2fd281de2ac",
   "metadata": {},
   "outputs": [
    {
     "name": "stdout",
     "output_type": "stream",
     "text": [
      "It is a odd number\n"
     ]
    }
   ],
   "source": [
    "num = 5\n",
    "print(\"It is a even number\") if (num%2) == 0 else print(\"It is a odd number\")"
   ]
  },
  {
   "cell_type": "code",
   "execution_count": 137,
   "id": "effa1e37-26d0-4f66-9207-0e04f44c7c9c",
   "metadata": {},
   "outputs": [],
   "source": [
    "# Exercise:\n",
    "# A country set up this protocol for their spies. Their field agents will call a toll free number.\n",
    "# They will get a harmless voice message that says it is The Nowhere Travel company and asks them to leave a message.\n",
    "# In response the caller states their passcode.\n",
    "# if the passcode is a valid one, a human operator comes online and greets them with their name\n",
    "# In this elite team, there are only three agents alive now. Imagine names, passcodes and implement this.\n",
    "# use only if statements"
   ]
  },
  {
   "cell_type": "code",
   "execution_count": 150,
   "id": "1af8a125-0ee8-4bbd-ace0-ac7c41ca04b1",
   "metadata": {},
   "outputs": [
    {
     "name": "stdout",
     "output_type": "stream",
     "text": [
      "Greeting from The Nowhere Travel company, Please leave your message\n"
     ]
    },
    {
     "name": "stdin",
     "output_type": "stream",
     "text": [
      " 1234\n"
     ]
    },
    {
     "name": "stdout",
     "output_type": "stream",
     "text": [
      "Hi Chai, how are you\n"
     ]
    }
   ],
   "source": [
    "toll_free_number=1234567890\n",
    "Message = print(\"Greeting from The Nowhere Travel company, Please leave your message\")\n",
    "caller_password = int(input())\n",
    "if(caller_password == 1234):\n",
    "    print(\"Hi Chai, how are you\")\n",
    "else:\n",
    "    if(caller_password == 2345):\n",
    "        print(\"Hi Anu, how are you\")\n",
    "    else:\n",
    "        if(caller_password == 8973):\n",
    "            print(\"Hi Chaitu, how are you\")\n",
    "        else:\n",
    "            print(\"Password is incorrect\")"
   ]
  },
  {
   "cell_type": "code",
   "execution_count": 151,
   "id": "68bafb21-a039-4ebf-94e8-e1018f9c4719",
   "metadata": {},
   "outputs": [],
   "source": [
    "# Exercise:\n",
    "# implement the previous scenario using if-elif statements"
   ]
  },
  {
   "cell_type": "code",
   "execution_count": 2,
   "id": "ca857d8c-8543-4fb0-adbe-d8365acd0b78",
   "metadata": {},
   "outputs": [
    {
     "name": "stdout",
     "output_type": "stream",
     "text": [
      "Greeting from The Nowhere Travel company, Please leave your message\n"
     ]
    },
    {
     "name": "stdin",
     "output_type": "stream",
     "text": [
      " 1234\n"
     ]
    },
    {
     "name": "stdout",
     "output_type": "stream",
     "text": [
      "Hi Chai, how are you\n"
     ]
    }
   ],
   "source": [
    "toll_free_number=1234567890\n",
    "Message = print(\"Greeting from The Nowhere Travel company, Please leave your message\")\n",
    "caller_password = int(input())\n",
    "if(caller_password == 1234):\n",
    "    print(\"Hi Chai, how are you\")\n",
    "elif(caller_password == 2345):\n",
    "    print(\"Hi Anu, how are you\")\n",
    "elif(caller_password == 8973):\n",
    "    print(\"Hi Chaitu, how are you\")\n",
    "else:\n",
    "    print(\"Password is incorrect\")"
   ]
  },
  {
   "cell_type": "code",
   "execution_count": 154,
   "id": "e616e85a-ddec-41f8-8e76-d89b2f4e8811",
   "metadata": {},
   "outputs": [],
   "source": [
    "#Exercise: \n",
    "# ask for sunsign from user, based on the input print one line prediction for the day"
   ]
  },
  {
   "cell_type": "code",
   "execution_count": 157,
   "id": "6b6b7075-78cd-4e46-89b8-2fa2bc99204f",
   "metadata": {},
   "outputs": [
    {
     "name": "stdin",
     "output_type": "stream",
     "text": [
      "Please give your sunsign Leo\n"
     ]
    },
    {
     "name": "stdout",
     "output_type": "stream",
     "text": [
      "Hey Leo ! You will be going to shopping today\n"
     ]
    }
   ],
   "source": [
    "sunsign=input(\"Please give your sunsign\")\n",
    "if(sunsign==\"Aries\"):\n",
    "    print(\"Hey Aries! You will have good capital gains today\")\n",
    "elif(sunsign==\"Gemini\"):\n",
    "    print(\"Hey Gemini! You will buy a new item today\")\n",
    "elif(sunsign==\"Scorpio\"):\n",
    "    print(\"Hey Scorpio! You will meet the love of your life today\")\n",
    "elif(sunsign==\"Virgo\"):\n",
    "    print(\"Hey Virgo! You will be spending too much today\")\n",
    "elif(sunsign==\"Libra\"):\n",
    "    print(\"Hey\",sunsign,\"! You will be having a hectic day today\")\n",
    "elif(sunsign==\"Aquarius\"):\n",
    "    print(\"Hey\",sunsign,\"! You will be going on a road trip today\")\n",
    "elif(sunsign==\"Capricorn\"):\n",
    "    print(\"Hey\",sunsign,\"! You should work hard today\")\n",
    "elif(sunsign==\"Cancer\"):\n",
    "    print(\"Hey\",sunsign,\"! You will be meeting an old friend today\")\n",
    "elif(sunsign==\"Sagittarius\"):\n",
    "    print(\"Hey\",sunsign,\"! You will be having good time in office today\")\n",
    "elif(sunsign==\"Pisces\"):\n",
    "    print(\"Hey\",sunsign,\"! You will be going to your school today\")\n",
    "elif(sunsign==\"Taurus\"):\n",
    "    print(\"Hey\",sunsign,\"! You will be meeting your crush today\")\n",
    "elif(sunsign==\"Leo\"):\n",
    "    print(\"Hey\",sunsign,\"! You will be going to shopping today\")\n",
    "else:\n",
    "    print(\"Wrong Sunsign\")"
   ]
  },
  {
   "cell_type": "code",
   "execution_count": 158,
   "id": "b5405ac7-8912-42ff-962d-5d1466f7952a",
   "metadata": {},
   "outputs": [],
   "source": [
    "# Exercise:\n",
    "# there are two people and we know their ages.\n",
    "# print out the older person's age"
   ]
  },
  {
   "cell_type": "code",
   "execution_count": 160,
   "id": "9b032ab8-b2bc-4d3c-aed9-eb8922c4b4fd",
   "metadata": {},
   "outputs": [
    {
     "name": "stdout",
     "output_type": "stream",
     "text": [
      "person2_age is elder than person1_age\n"
     ]
    }
   ],
   "source": [
    "person1_age= 23\n",
    "person2_age= 45\n",
    "if(person1_age>person2_age):\n",
    "    print(\"person1_age is elder than person2_age\")\n",
    "else:\n",
    "    print(\"person2_age is elder than person1_age\")"
   ]
  },
  {
   "cell_type": "code",
   "execution_count": 161,
   "id": "1aad6c48-9720-43e7-b72c-78443f901471",
   "metadata": {},
   "outputs": [],
   "source": [
    "# contd: how will you handle the previous scenario if there are three people?\n",
    "# what is the oldest person's age?"
   ]
  },
  {
   "cell_type": "code",
   "execution_count": 4,
   "id": "ab0b3153-cced-4226-9a63-8561d4c3ec77",
   "metadata": {},
   "outputs": [
    {
     "name": "stdin",
     "output_type": "stream",
     "text": [
      " 80\n",
      " 90\n",
      " 56\n"
     ]
    },
    {
     "name": "stdout",
     "output_type": "stream",
     "text": [
      "B is the eldest 90\n"
     ]
    }
   ],
   "source": [
    "A=int(input())\n",
    "B=int(input())\n",
    "C=int(input())\n",
    "if(A>B and A>C):\n",
    "    print(\"A is the eldest\",A)\n",
    "elif(B>A and B>C):\n",
    "    print(\"B is the eldest\",B)\n",
    "elif(C>A and C>B):\n",
    "    print(\"C is the eldest\",C)\n",
    "else:\n",
    "    print(\"Same Age\")"
   ]
  },
  {
   "cell_type": "code",
   "execution_count": null,
   "id": "c524dd5d-70c3-4e98-9086-589c9c6e6ff4",
   "metadata": {},
   "outputs": [],
   "source": []
  }
 ],
 "metadata": {
  "kernelspec": {
   "display_name": "Python 3 (ipykernel)",
   "language": "python",
   "name": "python3"
  },
  "language_info": {
   "codemirror_mode": {
    "name": "ipython",
    "version": 3
   },
   "file_extension": ".py",
   "mimetype": "text/x-python",
   "name": "python",
   "nbconvert_exporter": "python",
   "pygments_lexer": "ipython3",
   "version": "3.12.4"
  }
 },
 "nbformat": 4,
 "nbformat_minor": 5
}
